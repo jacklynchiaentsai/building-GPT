{
  "cells": [
    {
      "cell_type": "markdown",
      "source": [
        "# Bigram Character-Level Language Model"
      ],
      "metadata": {
        "id": "jQ-U_lsAQZVH"
      }
    },
    {
      "cell_type": "code",
      "execution_count": 1,
      "metadata": {
        "id": "e6b_ICJCOrcg"
      },
      "outputs": [],
      "source": [
        "import torch\n",
        "import torch.nn as nn\n",
        "from torch.nn import functional as F"
      ]
    },
    {
      "cell_type": "code",
      "execution_count": 2,
      "metadata": {
        "colab": {
          "base_uri": "https://localhost:8080/"
        },
        "id": "KAkdtRtmOrch",
        "outputId": "0c3799de-3fe4-4cbc-975d-8fa7bad97581"
      },
      "outputs": [
        {
          "output_type": "stream",
          "name": "stdout",
          "text": [
            "cuda\n"
          ]
        }
      ],
      "source": [
        "device = 'cuda' if torch.cuda.is_available() else 'cpu'\n",
        "print(device)\n",
        "\n",
        "#parameters\n",
        "block_size = 8 #size of each context block\n",
        "batch_size = 4 # number of blocks running in parallel\n",
        "max_iters = 10000\n",
        "learning_rate = 3e-4\n",
        "eval_iters = 250 # show loss data every eval_iters"
      ]
    },
    {
      "cell_type": "code",
      "execution_count": 3,
      "metadata": {
        "id": "WHCpeh95Orci"
      },
      "outputs": [],
      "source": [
        "with open('wizard_of_oz.txt', 'r', encoding='utf-8') as f:\n",
        "    text = f.read()"
      ]
    },
    {
      "cell_type": "code",
      "execution_count": 4,
      "metadata": {
        "colab": {
          "base_uri": "https://localhost:8080/"
        },
        "id": "jLFdQ_XmOrci",
        "outputId": "79734871-065d-4822-bdbf-4c970aacb568"
      },
      "outputs": [
        {
          "output_type": "stream",
          "name": "stdout",
          "text": [
            "81\n",
            "['\\n', ' ', '!', '\"', '&', \"'\", '(', ')', '*', ',', '-', '.', '0', '1', '2', '3', '4', '5', '6', '7', '8', '9', ':', ';', '?', 'A', 'B', 'C', 'D', 'E', 'F', 'G', 'H', 'I', 'J', 'K', 'L', 'M', 'N', 'O', 'P', 'Q', 'R', 'S', 'T', 'U', 'V', 'W', 'X', 'Y', 'Z', '[', ']', '_', 'a', 'b', 'c', 'd', 'e', 'f', 'g', 'h', 'i', 'j', 'k', 'l', 'm', 'n', 'o', 'p', 'q', 'r', 's', 't', 'u', 'v', 'w', 'x', 'y', 'z', '\\ufeff']\n"
          ]
        }
      ],
      "source": [
        "chars = sorted(set(text))\n",
        "vocab_size = len(chars)\n",
        "print(vocab_size)\n",
        "print(chars)"
      ]
    },
    {
      "cell_type": "code",
      "execution_count": 5,
      "metadata": {
        "colab": {
          "base_uri": "https://localhost:8080/"
        },
        "id": "Ye6pJLU0Orci",
        "outputId": "e3a038f9-7948-4e70-bef4-6a2cfa5cfa85"
      },
      "outputs": [
        {
          "output_type": "stream",
          "name": "stdout",
          "text": [
            "hello\n"
          ]
        }
      ],
      "source": [
        "# character level tokenizer\n",
        "string_to_int = {ch:i for i,ch in enumerate(chars)}\n",
        "int_to_string = {i:ch for i,ch in enumerate(chars)}\n",
        "encode = lambda s: [string_to_int[c] for c in s] # encoder given string returns list of corresponding char integers\n",
        "decode = lambda l: ''.join([int_to_string[i] for i in l]) # decoder given list of integers returns corresponding string\n",
        "\n",
        "# examples\n",
        "print(decode(encode('hello')))"
      ]
    },
    {
      "cell_type": "code",
      "execution_count": 6,
      "metadata": {
        "colab": {
          "base_uri": "https://localhost:8080/"
        },
        "id": "2reku4dpOrci",
        "outputId": "384732ae-3038-4a63-ce6e-46fa0558a475"
      },
      "outputs": [
        {
          "output_type": "stream",
          "name": "stdout",
          "text": [
            "tensor([80,  0, 28, 39, 42, 39, 44, 32, 49,  1, 25, 38, 28,  1, 44, 32, 29,  1,\n",
            "        47, 33, 50, 25, 42, 28,  1, 33, 38,  1, 39, 50,  0,  0, 26, 49,  0,  0,\n",
            "        36, 11,  1, 30, 42, 25, 38, 35,  1, 26, 25, 45, 37,  0,  0, 25, 45, 44,\n",
            "        32, 39, 42,  1, 39, 30,  1, 44, 32, 29,  1, 47, 33, 50, 25, 42, 28,  1,\n",
            "        39, 30,  1, 39, 50,  9,  1, 44, 32, 29,  1, 36, 25, 38, 28,  1, 39, 30,\n",
            "         1, 39, 50,  9,  1, 39, 50, 37, 25,  1])\n"
          ]
        }
      ],
      "source": [
        "data = torch.tensor(encode(text), dtype = torch.long)\n",
        "print(data[:100])"
      ]
    },
    {
      "cell_type": "code",
      "execution_count": 8,
      "metadata": {
        "colab": {
          "base_uri": "https://localhost:8080/"
        },
        "id": "NumFm3rbOrci",
        "outputId": "ee108b7e-00d6-45bb-f991-870441f12394"
      },
      "outputs": [
        {
          "output_type": "stream",
          "name": "stdout",
          "text": [
            "inputs:\n",
            "tensor([[58, 66,  1, 54, 73,  1, 68, 67],\n",
            "        [ 1, 59, 68, 71,  1, 33,  1, 66],\n",
            "        [72, 11,  1,  3, 49, 68, 74,  1],\n",
            "        [62, 67,  1, 76, 61, 54, 73,  1]], device='cuda:0')\n",
            "targets\n",
            "tensor([[66,  1, 54, 73,  1, 68, 67, 56],\n",
            "        [59, 68, 71,  1, 33,  1, 66, 58],\n",
            "        [11,  1,  3, 49, 68, 74,  1, 66],\n",
            "        [67,  1, 76, 61, 54, 73,  1, 61]], device='cuda:0')\n"
          ]
        }
      ],
      "source": [
        "# splitting to training and validation data\n",
        "n = int(0.8 * len(data))\n",
        "train_data = data[:n]\n",
        "val_data = data[n:]\n",
        "\n",
        "def get_batch(split):\n",
        "    data = train_data if split == 'train' else val_data\n",
        "    # tensor of initial position of x with size batch_size\n",
        "    ix = torch.randint(len(data) - block_size, (batch_size,))\n",
        "    x = torch.stack([data[i:i+block_size] for i in ix])\n",
        "    y = torch.stack([data[i+1:i+block_size+1] for i in ix])\n",
        "    x,y  = x.to(device), y.to(device) # pushing to gpu\n",
        "    return x,y\n",
        "\n",
        "x, y = get_batch('train')\n",
        "print('inputs:')\n",
        "print(x)\n",
        "print('targets')\n",
        "print(y)"
      ]
    },
    {
      "cell_type": "code",
      "execution_count": 9,
      "metadata": {
        "colab": {
          "base_uri": "https://localhost:8080/"
        },
        "id": "lMHId-exOrci",
        "outputId": "edff8aec-9e97-43cc-d73b-049895377635"
      },
      "outputs": [
        {
          "output_type": "stream",
          "name": "stdout",
          "text": [
            "when input is tensor([80]) target is 0\n",
            "when input is tensor([80,  0]) target is 28\n",
            "when input is tensor([80,  0, 28]) target is 39\n",
            "when input is tensor([80,  0, 28, 39]) target is 42\n",
            "when input is tensor([80,  0, 28, 39, 42]) target is 39\n",
            "when input is tensor([80,  0, 28, 39, 42, 39]) target is 44\n",
            "when input is tensor([80,  0, 28, 39, 42, 39, 44]) target is 32\n",
            "when input is tensor([80,  0, 28, 39, 42, 39, 44, 32]) target is 49\n"
          ]
        }
      ],
      "source": [
        "x = train_data[:block_size]\n",
        "y = train_data[1:block_size + 1]\n",
        "\n",
        "for t in range(block_size):\n",
        "    context = x[:t+1]\n",
        "    target = y[t] # next encoded character given context\n",
        "    print( f'when input is {context} target is {target}')"
      ]
    },
    {
      "cell_type": "code",
      "execution_count": 12,
      "metadata": {
        "colab": {
          "base_uri": "https://localhost:8080/"
        },
        "id": "ON5PKZ3COrci",
        "outputId": "fdb6b845-2563-40d8-a5d6-fdcbbe5f6bf9"
      },
      "outputs": [
        {
          "output_type": "stream",
          "name": "stdout",
          "text": [
            "\n",
            "zDbTUc'0y(]m!]i\n",
            "q?WUJ[Ek5i1,pkdE(TUv_dvE\n",
            "Pte?XIf79;RKMfr_zM1PH?Bvr:oQmZQM1bD59hO1qK -D\n",
            "73N\"YlofOaF!OLNJcs0ksLKLhIW)x?LYPZ,Zph1bc9h5D,vK0f_*:tZao\"7.?HNbY?roZ.! WXWTY!._;DGfHXq5ia0F9fmEOIK6'dW_Pq6gQM-1﻿pQc30](B,_mG5]7. WXq;J[XhPi1mG]7IuRZH wh(]8\"DwM3Fb1[pBf7Bex5vCPint(vi17BEtQ([ITeAQiZLXqSTuV,Fc?X8Y﻿_C([ZQNh5[H?arfUw;3hABcEu37u?iKN?X81\n",
            "V-8H_Pq5JOM899\n",
            "SZHPv]J2]*Omi\n",
            "7-y(RYPlmWVbIB8XqC*z3e3L7c9[XA)GGelR\"65Oa-(?v,i'[fKlk5x!OOp5te(.QquA,nyZmg,u'Z;4]7yR ]OvjoJZL:Be?J﻿Jh1klJANcqU-k3v6mP!LjhOM1YpEC3L.﻿9\n",
            ".\n"
          ]
        }
      ],
      "source": [
        "class BigramLanguageModel(nn.Module):\n",
        "    def __init__(self, vocab_size):\n",
        "        super().__init__()\n",
        "        # displays the occurence of all bigram possibilities a->b\n",
        "        # each token mapped to a corresponding embedding vector\n",
        "        self.token_embedding_table = nn.Embedding(vocab_size, vocab_size) # nn.Embedding is learnable parameter\n",
        "\n",
        "    def forward(self, index, targets =None):\n",
        "        #logits: a tensor where each row corresponds to the embedding vector of a token indexed by index\n",
        "        logits = self.token_embedding_table(index)\n",
        "\n",
        "        if targets is None:\n",
        "            loss = None\n",
        "        else:\n",
        "            # b: batch size, t: sequence length (time), c: vocabulary size\n",
        "            B, T, C = logits.shape\n",
        "            logits = logits.view(B*T, C) # view: same data as the self tensor but of a different shape\n",
        "            targets = targets.view(B*T)\n",
        "            loss = F.cross_entropy(logits, targets)\n",
        "\n",
        "        return logits, loss\n",
        "\n",
        "    # generate new tokens\n",
        "    def generate(self, index, max_new_tokens):\n",
        "        #index is (B, T) array of indices in the current context\n",
        "        for _ in range(max_new_tokens):\n",
        "            logits, loss = self.forward(index)\n",
        "            # bigram: focus only on the last time step\n",
        "            logits = logits[:, -1, :] # becomes (B,C)\n",
        "            # apply softmax to get probabilities\n",
        "            probs = F.softmax(logits, dim = -1)\n",
        "            # sample from the multinomial distribution\n",
        "            index_next = torch.multinomial(probs, num_samples = 1) # (B,1)\n",
        "            # append sampled index to running sequence\n",
        "            index = torch.cat((index, index_next), dim=1) # (B, T+1)\n",
        "        return index\n",
        "\n",
        "model = BigramLanguageModel(vocab_size)\n",
        "m = model.to(device)\n",
        "\n",
        "# attempting to generate without training\n",
        "context = torch.zeros((1,1), dtype = torch.long, device = device) # single next line character\n",
        "generated_chars = decode(m.generate(context, max_new_tokens = 500)[0].tolist())\n",
        "print(generated_chars)"
      ]
    },
    {
      "cell_type": "code",
      "execution_count": 13,
      "metadata": {
        "id": "W2QdBGLxOrci"
      },
      "outputs": [],
      "source": [
        "@torch.no_grad()\n",
        "def estimate_loss():\n",
        "    out = {}\n",
        "    model.eval() # switching model in evaluation mode (dropout, batch normalization is turned off)\n",
        "    for split in ['train', 'val']:\n",
        "        losses = torch.zeros(eval_iters)\n",
        "        for k in range(eval_iters):\n",
        "            X, Y = get_batch(split)\n",
        "            logits, loss = model(X, Y)\n",
        "            losses[k] = loss.item()\n",
        "        out[split] = losses.mean()\n",
        "    model.train()\n",
        "    return out"
      ]
    },
    {
      "cell_type": "code",
      "execution_count": 14,
      "metadata": {
        "colab": {
          "base_uri": "https://localhost:8080/"
        },
        "id": "1lVBOOJrOrci",
        "outputId": "f40a11ba-c345-44ab-9589-a511e624b51c"
      },
      "outputs": [
        {
          "output_type": "stream",
          "name": "stdout",
          "text": [
            "step: 0, training loss 4.863, val loss 4.882 \n",
            "step: 250, training loss 4.827, val loss 4.841 \n",
            "step: 500, training loss 4.762, val loss 4.765 \n",
            "step: 750, training loss 4.671, val loss 4.708 \n",
            "step: 1000, training loss 4.663, val loss 4.651 \n",
            "step: 1250, training loss 4.598, val loss 4.599 \n",
            "step: 1500, training loss 4.526, val loss 4.535 \n",
            "step: 1750, training loss 4.491, val loss 4.470 \n",
            "step: 2000, training loss 4.431, val loss 4.413 \n",
            "step: 2250, training loss 4.386, val loss 4.385 \n",
            "step: 2500, training loss 4.335, val loss 4.300 \n",
            "step: 2750, training loss 4.260, val loss 4.277 \n",
            "step: 3000, training loss 4.196, val loss 4.227 \n",
            "step: 3250, training loss 4.159, val loss 4.169 \n",
            "step: 3500, training loss 4.114, val loss 4.126 \n",
            "step: 3750, training loss 4.067, val loss 4.092 \n",
            "step: 4000, training loss 4.029, val loss 4.021 \n",
            "step: 4250, training loss 3.970, val loss 3.971 \n",
            "step: 4500, training loss 3.941, val loss 3.964 \n",
            "step: 4750, training loss 3.901, val loss 3.930 \n",
            "step: 5000, training loss 3.859, val loss 3.857 \n",
            "step: 5250, training loss 3.796, val loss 3.831 \n",
            "step: 5500, training loss 3.774, val loss 3.781 \n",
            "step: 5750, training loss 3.721, val loss 3.756 \n",
            "step: 6000, training loss 3.707, val loss 3.691 \n",
            "step: 6250, training loss 3.660, val loss 3.677 \n",
            "step: 6500, training loss 3.613, val loss 3.666 \n",
            "step: 6750, training loss 3.592, val loss 3.576 \n",
            "step: 7000, training loss 3.558, val loss 3.596 \n",
            "step: 7250, training loss 3.552, val loss 3.528 \n",
            "step: 7500, training loss 3.501, val loss 3.505 \n",
            "step: 7750, training loss 3.467, val loss 3.470 \n",
            "step: 8000, training loss 3.423, val loss 3.451 \n",
            "step: 8250, training loss 3.412, val loss 3.385 \n",
            "step: 8500, training loss 3.354, val loss 3.372 \n",
            "step: 8750, training loss 3.329, val loss 3.373 \n",
            "step: 9000, training loss 3.311, val loss 3.324 \n",
            "step: 9250, training loss 3.278, val loss 3.294 \n",
            "step: 9500, training loss 3.269, val loss 3.273 \n",
            "step: 9750, training loss 3.225, val loss 3.253 \n",
            "3.043107509613037\n"
          ]
        }
      ],
      "source": [
        "optimizer = torch.optim.AdamW(model.parameters(), lr = learning_rate)\n",
        "\n",
        "# model training\n",
        "for iter in range(max_iters):\n",
        "    if iter % eval_iters == 0:\n",
        "        losses = estimate_loss()\n",
        "        print(f\"step: {iter}, training loss {losses['train']:.3f}, val loss {losses['val']:.3f} \")\n",
        "    # sample a batch of data\n",
        "    xb, yb = get_batch('train')\n",
        "\n",
        "    # feeding both index and target into forward function\n",
        "    logits, loss = model.forward(xb, yb) #.forward can be ommitted\n",
        "    # make sure gradients do not add over time (previous gradients do not affect current gradient)\n",
        "    optimizer.zero_grad(set_to_none=True) # set to none to occupy less space\n",
        "    loss.backward()\n",
        "    optimizer.step()\n",
        "\n",
        "print(loss.item())"
      ]
    },
    {
      "cell_type": "code",
      "execution_count": 15,
      "metadata": {
        "colab": {
          "base_uri": "https://localhost:8080/"
        },
        "id": "B_WdLtxqOrci",
        "outputId": "43c23868-e9d4-48ae-94c8-5c0446f80b10"
      },
      "outputs": [
        {
          "output_type": "stream",
          "name": "stdout",
          "text": [
            "\n",
            "s-h5[\n",
            "cH6Chk5_sk7z-9Xthi4B(Ahip2]p)owlQ('gT0\"Ssj4bQkebrol\n",
            "Cty?ro!*-s'serooi*L.\n",
            " PZHHW)W﻿Fql-9p﻿__Fi*owiZntbvK3Npo\"\"Pt?zzOO]()[;[v,O﻿Zwhadr c,Wivhu aG]lvU81Y[BLbi1)nNNx1,\n",
            "C)4[IKMnyIK1OaketCgthEanky()b9[xH&ouRST29[HVIK-Hwais?shdYL ht:9crLbooz8.)(Va9.SFK﻿ZLK3.!0G[;1ttece!V1Pq&Vp6Maipi,B7haz-(ARCIuEte(7.cVizEpth,vDo:E\n",
            "Pg fKCEj\n",
            "TER\n",
            "Z-Opiz-kulaYXth:wid*thow1XTO1fs d\"Oink8wYx b\n",
            "\"I WD lu noi15[8ER\n",
            "FwhEthie6\n",
            " pr(x4LYDQL22g*[]gI;0﻿z1cVU![\n",
            "*Q!H&4Z?incE467OO6-Y[s ?JB0memPFLK;f\n",
            "[IEy-6lZLx,ca!OpAS6h w39skd df\n"
          ]
        }
      ],
      "source": [
        "# generate after training\n",
        "context = torch.zeros((1,1), dtype = torch.long, device = device)\n",
        "generated_chars = decode(m.generate(context, max_new_tokens=500)[0].tolist())\n",
        "print(generated_chars)"
      ]
    }
  ],
  "metadata": {
    "kernelspec": {
      "display_name": "cuda-gpt",
      "language": "python",
      "name": "cuda"
    },
    "language_info": {
      "codemirror_mode": {
        "name": "ipython",
        "version": 3
      },
      "file_extension": ".py",
      "mimetype": "text/x-python",
      "name": "python",
      "nbconvert_exporter": "python",
      "pygments_lexer": "ipython3",
      "version": "3.12.1"
    },
    "colab": {
      "provenance": [],
      "gpuType": "T4"
    },
    "accelerator": "GPU"
  },
  "nbformat": 4,
  "nbformat_minor": 0
}